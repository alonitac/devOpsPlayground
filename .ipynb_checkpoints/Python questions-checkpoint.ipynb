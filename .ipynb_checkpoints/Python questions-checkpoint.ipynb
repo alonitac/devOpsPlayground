{
 "cells": [
  {
   "cell_type": "markdown",
   "id": "2c58d65f",
   "metadata": {},
   "source": [
    "## Is unique string\n",
    "Write a program that given a string, determines whether all characters are unique:\n"
   ]
  },
  {
   "cell_type": "code",
   "execution_count": 4,
   "id": "9cb5b2c3",
   "metadata": {},
   "outputs": [],
   "source": [
    "my_str = 'bacdfgjhlukje'"
   ]
  },
  {
   "cell_type": "markdown",
   "id": "312e1847",
   "metadata": {},
   "source": [
    "### The natural solution"
   ]
  },
  {
   "cell_type": "code",
   "execution_count": 6,
   "id": "b16e5619",
   "metadata": {},
   "outputs": [
    {
     "name": "stdout",
     "output_type": "stream",
     "text": [
      "is'nt unique\n"
     ]
    }
   ],
   "source": [
    "is_unique = True\n",
    "\n",
    "for i in range(len(my_str)):\n",
    "    for j in range(i + 1, len(my_str)):\n",
    "        if my_str[i] == my_str[j]:\n",
    "            is_unique = False\n",
    "\n",
    "if is_unique:\n",
    "    print(\"is unique\")\n",
    "else:\n",
    "    print(\"is'nt unique\")\n",
    "    \n",
    "# alternative\n",
    "# print(\"is unique\" if is_unique else \"is'nt unique\")"
   ]
  },
  {
   "cell_type": "markdown",
   "id": "47098265",
   "metadata": {},
   "source": [
    "### The optimal solution"
   ]
  },
  {
   "cell_type": "code",
   "execution_count": 3,
   "id": "b9e91200",
   "metadata": {},
   "outputs": [
    {
     "name": "stdout",
     "output_type": "stream",
     "text": [
      "isn't unique\n"
     ]
    }
   ],
   "source": [
    "visited_char = {}\n",
    "\n",
    "my_str = 'bacdfgjhlukje'\n",
    "\n",
    "for c in my_str:\n",
    "    if c in visited_char:\n",
    "        print(\"isn't unique\")\n",
    "        break\n",
    "        \n",
    "    visited_char[c] = True"
   ]
  },
  {
   "cell_type": "markdown",
   "id": "cdbc8e5b",
   "metadata": {},
   "source": [
    "### The elegant solution"
   ]
  },
  {
   "cell_type": "code",
   "execution_count": 17,
   "id": "2df1fcc5",
   "metadata": {},
   "outputs": [
    {
     "name": "stdout",
     "output_type": "stream",
     "text": [
      "is unique\n"
     ]
    }
   ],
   "source": [
    "if len(set(my_str)) == len(my_str):\n",
    "    print('is unique')\n",
    "else:\n",
    "    print(\"isn't unique\")"
   ]
  },
  {
   "cell_type": "markdown",
   "id": "8c3ac222",
   "metadata": {},
   "source": [
    "## Sum of elements\n",
    "Write a program that given a list of numbers, calculates the sum of all elements :\n"
   ]
  },
  {
   "cell_type": "code",
   "execution_count": 21,
   "id": "b62076d0",
   "metadata": {},
   "outputs": [],
   "source": [
    "my_list = [1, 2, 3, 4, 5, 6, 7, 8]"
   ]
  },
  {
   "cell_type": "markdown",
   "id": "cddb228b",
   "metadata": {},
   "source": [
    "### The elegant solution"
   ]
  },
  {
   "cell_type": "code",
   "execution_count": 22,
   "id": "1a06d235",
   "metadata": {},
   "outputs": [
    {
     "data": {
      "text/plain": [
       "36"
      ]
     },
     "execution_count": 22,
     "metadata": {},
     "output_type": "execute_result"
    }
   ],
   "source": [
    "sum(my_list)"
   ]
  },
  {
   "cell_type": "markdown",
   "id": "78a69d7c",
   "metadata": {},
   "source": [
    "### The natural solution"
   ]
  },
  {
   "cell_type": "code",
   "execution_count": 24,
   "id": "fa125f97",
   "metadata": {},
   "outputs": [
    {
     "name": "stdout",
     "output_type": "stream",
     "text": [
      "36\n"
     ]
    }
   ],
   "source": [
    "s = 0\n",
    "for num in my_list:\n",
    "    s = s + num\n",
    "print(s)"
   ]
  },
  {
   "cell_type": "markdown",
   "id": "24d47fca",
   "metadata": {},
   "source": [
    "### The recursive solution"
   ]
  },
  {
   "cell_type": "code",
   "execution_count": 26,
   "id": "f32f9242",
   "metadata": {},
   "outputs": [
    {
     "data": {
      "text/plain": [
       "36"
      ]
     },
     "execution_count": 26,
     "metadata": {},
     "output_type": "execute_result"
    }
   ],
   "source": [
    "def sum_of_all(lst):\n",
    "    if len(lst) == 0:\n",
    "        return 0\n",
    "    return sum_of_all(lst[1:]) + lst[0]\n",
    "\n",
    "\n",
    "sum_of_all(my_list)"
   ]
  },
  {
   "cell_type": "markdown",
   "id": "cece4fce",
   "metadata": {},
   "source": [
    "## Zig Zag\n",
    "A sequence of integers is called a zigzag sequence if each of its elements is either strictly less than both \n",
    "neighbors or strictly greater than both neighbors. For example, the sequence 4 2 3 1 5 3 is a zigzag,\n",
    " but 7 3 5 5 2 and 3 8 6 4 5 aren't.\n",
    "\n",
    "For a given array of integers return the length of its longest contiguous sub-array that is a zigzag sequence.\n",
    "\n",
    "Example\n",
    "For a = [9, 8, 8, 5, 3, 5, 3, 2, 8, 6], the output should be\n",
    "zigzag(a) = 4.\n",
    "\n",
    "The longest zigzag sub-arrays are [5, 3, 5, 3] and [3, 2, 8, 6] and they both have length 4.\n"
   ]
  },
  {
   "cell_type": "code",
   "execution_count": 1,
   "id": "c66d0a5c",
   "metadata": {},
   "outputs": [],
   "source": [
    "a = [9, 8, 8, 5, 3, 5, 3, 2, 8, 6]"
   ]
  },
  {
   "cell_type": "code",
   "execution_count": 3,
   "id": "87df3c0a",
   "metadata": {},
   "outputs": [
    {
     "name": "stdout",
     "output_type": "stream",
     "text": [
      "4\n"
     ]
    }
   ],
   "source": [
    "max_zz = 0\n",
    "\n",
    "for i in range(len(a) - 1):\n",
    "\n",
    "    zz_count = 1  \n",
    "    zz_state = 0\n",
    "    \n",
    "    for j in range(i, len(a) - 1): \n",
    "        \n",
    "        if zz_state != -1 and a[j] < a[j + 1]:\n",
    "            zz_state = -1\n",
    "            zz_count += 1\n",
    "            \n",
    "        elif zz_state != 1 and a[j] > a[j + 1]:\n",
    "            zz_state = 1\n",
    "            zz_count += 1\n",
    "            \n",
    "        else:\n",
    "            break  # breaking from the internal loop\n",
    "    \n",
    "    max_zz = max(zz_count, max_zz)\n",
    "\n",
    "print(max_zz)"
   ]
  },
  {
   "cell_type": "markdown",
   "id": "893c3f43",
   "metadata": {},
   "source": [
    "## Words Concat\n",
    "Given a list of workds, and a reperator \"sep\", write a program that concatenates the words, using \"sep\" as a seperator.\n",
    "\n",
    "\n",
    "Use must use the string function **join**"
   ]
  },
  {
   "cell_type": "code",
   "execution_count": 6,
   "id": "8b47447a",
   "metadata": {},
   "outputs": [],
   "source": [
    "words = ['take', 'me', 'home']\n",
    "sep = ' '"
   ]
  },
  {
   "cell_type": "code",
   "execution_count": 8,
   "id": "a30be97f",
   "metadata": {},
   "outputs": [
    {
     "data": {
      "text/plain": [
       "'take me home'"
      ]
     },
     "execution_count": 8,
     "metadata": {},
     "output_type": "execute_result"
    }
   ],
   "source": [
    "Your program...."
   ]
  },
  {
   "cell_type": "code",
   "execution_count": 9,
   "id": "2c63836b",
   "metadata": {},
   "outputs": [],
   "source": [
    "words = ['A', 'picture', 'is', 'worth', '1000', 'words']\n",
    "sep = '-'"
   ]
  },
  {
   "cell_type": "code",
   "execution_count": 10,
   "id": "ef8fe531",
   "metadata": {},
   "outputs": [
    {
     "data": {
      "text/plain": [
       "'A-picture-is-worth-1000-words'"
      ]
     },
     "execution_count": 10,
     "metadata": {},
     "output_type": "execute_result"
    }
   ],
   "source": [
    "Your Program"
   ]
  },
  {
   "cell_type": "markdown",
   "id": "62389d11",
   "metadata": {},
   "source": [
    "## Valid parentheses (Adavanced)\n",
    "Given a string containing \\[,\\{,\\(,\\),\\},\\]. Write a program that determines if the string is a valid parentheses order"
   ]
  },
  {
   "cell_type": "code",
   "execution_count": 13,
   "id": "d1d07a97",
   "metadata": {},
   "outputs": [],
   "source": [
    "a1 = '{}'             # valid\n",
    "a2 = '{)}'            # invalid\n",
    "a3 = '{()()[(){}]}'   # valid\n",
    "a4 = '({)}'           # invalid\n",
    "a5 = ''               # valid"
   ]
  },
  {
   "cell_type": "code",
   "execution_count": null,
   "id": "a99fcd53",
   "metadata": {},
   "outputs": [],
   "source": []
  },
  {
   "cell_type": "markdown",
   "id": "022812b5",
   "metadata": {},
   "source": [
    "## 7 Boom\n",
    "Write a program that finds all numbers between 1 to 6000 divisible by 7"
   ]
  },
  {
   "cell_type": "code",
   "execution_count": null,
   "id": "f7baf2c0",
   "metadata": {},
   "outputs": [],
   "source": []
  },
  {
   "cell_type": "markdown",
   "id": "2cd7169f",
   "metadata": {},
   "source": [
    "## Verbing (from Google course)\n",
    "Given a string, if its length is at least 3,\n",
    "add 'ing' to its end.\n",
    "Unless it already ends in 'ing', in which case\n",
    "add 'ly' instead.\n",
    "If the string length is less than 3, leave it unchanged.\n",
    "Return the resulting string."
   ]
  },
  {
   "cell_type": "code",
   "execution_count": 14,
   "id": "eebfdf42",
   "metadata": {},
   "outputs": [],
   "source": [
    "my_word_1 = 'walk'\n",
    "my_word_2 = 'swimming'\n",
    "my_word_3 = 'do'"
   ]
  },
  {
   "cell_type": "code",
   "execution_count": null,
   "id": "5f8a952b",
   "metadata": {},
   "outputs": [],
   "source": []
  },
  {
   "cell_type": "markdown",
   "id": "2ee61c8a",
   "metadata": {},
   "source": [
    "## Python mutability objects\n",
    "Write a program that gets a list of elements. For each elements it prints whether it's mutable or immutable"
   ]
  },
  {
   "cell_type": "code",
   "execution_count": 16,
   "id": "102b5b23",
   "metadata": {},
   "outputs": [],
   "source": [
    "a = [1, 'my string', [1, 2, 3], (1, 2, 3), {'k1': 1}, True]"
   ]
  },
  {
   "cell_type": "code",
   "execution_count": 22,
   "id": "52eb7d27",
   "metadata": {},
   "outputs": [
    {
     "name": "stdout",
     "output_type": "stream",
     "text": [
      "1 is immutable\n",
      "my string is immutable\n",
      "[1, 2, 3] is mutable\n",
      "(1, 2, 3) is immutable\n",
      "{'k1': 1} is mutable\n",
      "True is immutable\n"
     ]
    }
   ],
   "source": [
    "Your program"
   ]
  },
  {
   "cell_type": "markdown",
   "id": "6d100597",
   "metadata": {},
   "source": [
    "## Valid maill address\n",
    "Assuming that a valid email addresses in the \"username@companyname.com\" format, please write program that verify that a given email address is valid, and prints the user name of a given email address"
   ]
  },
  {
   "cell_type": "code",
   "execution_count": null,
   "id": "0a0d0ec4",
   "metadata": {},
   "outputs": [],
   "source": [
    "m1 = \"john@gmail.com\"   # valid. username is 'john'\n",
    "m2 = \"@gmailcom\"        # invalid.\n",
    "m3 = \"j@gmail\"          # invalid. \n",
    "m4 = \"jo.hn@gmail\"      # invalid."
   ]
  },
  {
   "cell_type": "markdown",
   "id": "551698d2",
   "metadata": {},
   "source": [
    "## What does this code do?"
   ]
  },
  {
   "cell_type": "code",
   "execution_count": 8,
   "id": "2d6b189a",
   "metadata": {},
   "outputs": [],
   "source": [
    "def boo(n):\n",
    "    a = 0\n",
    "    b = 1\n",
    "    for i in range(0, n):\n",
    "        tmp = a + b\n",
    "        a = b\n",
    "        b = tmp\n",
    "\n",
    "    return a"
   ]
  },
  {
   "cell_type": "code",
   "execution_count": 9,
   "id": "e511b86b",
   "metadata": {},
   "outputs": [
    {
     "name": "stdout",
     "output_type": "stream",
     "text": [
      "1\n",
      "1\n",
      "2\n",
      "3\n",
      "5\n",
      "8\n",
      "13\n"
     ]
    }
   ],
   "source": [
    "print(boo(1))\n",
    "print(boo(2))\n",
    "print(boo(3))\n",
    "print(boo(4))\n",
    "print(boo(5))\n",
    "print(boo(6))\n",
    "print(boo(7))"
   ]
  },
  {
   "cell_type": "markdown",
   "id": "015bb578",
   "metadata": {},
   "source": [
    "## What does this code do?"
   ]
  },
  {
   "cell_type": "code",
   "execution_count": 10,
   "id": "11a2ef3d",
   "metadata": {},
   "outputs": [],
   "source": [
    "def foo(my_list, x):\n",
    "    \"\"\"\n",
    "    my_list - a SORTED list of numbers\n",
    "    x  - an integer\n",
    "    \"\"\"\n",
    "    low = 0\n",
    "    high = len(my_list) - 1\n",
    "\n",
    "    while low <= high:\n",
    "        mid = (high + low) // 2\n",
    "\n",
    "        if my_list[mid] < x:\n",
    "            low = mid + 1\n",
    "        elif my_list[mid] > x:\n",
    "            high = mid - 1\n",
    "        else:\n",
    "            return mid\n",
    "\n",
    "    return None"
   ]
  },
  {
   "cell_type": "code",
   "execution_count": 20,
   "id": "826f5b62",
   "metadata": {},
   "outputs": [
    {
     "data": {
      "text/plain": [
       "1"
      ]
     },
     "execution_count": 20,
     "metadata": {},
     "output_type": "execute_result"
    }
   ],
   "source": [
    "my_list = [2, 6, 18, 54, 70, 103, 200]\n",
    "x = 5\n",
    "x = 6\n",
    "\n",
    "foo(my_list, 6)"
   ]
  }
 ],
 "metadata": {
  "kernelspec": {
   "display_name": "Python 3 (ipykernel)",
   "language": "python",
   "name": "python3"
  },
  "language_info": {
   "codemirror_mode": {
    "name": "ipython",
    "version": 3
   },
   "file_extension": ".py",
   "mimetype": "text/x-python",
   "name": "python",
   "nbconvert_exporter": "python",
   "pygments_lexer": "ipython3",
   "version": "3.9.5"
  }
 },
 "nbformat": 4,
 "nbformat_minor": 5
}
